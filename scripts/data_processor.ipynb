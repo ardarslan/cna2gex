{
 "cells": [
  {
   "cell_type": "code",
   "execution_count": 1,
   "metadata": {},
   "outputs": [
    {
     "name": "stdout",
     "output_type": "stream",
     "text": [
      "Processing RPPA data...\n",
      "            sample_id  X1433EPSILON    X4EBP1  X4EBP1_pS65  X4EBP1_pT37T46  \\\n",
      "0     TCGA-FI-A2EY-01     -0.013829 -1.127400    -0.423550       -0.827380   \n",
      "1     TCGA-DF-A2KS-01     -0.168630  0.165870    -0.505950        0.019504   \n",
      "2     TCGA-A5-A1OH-01      0.038842 -0.382370     0.042306        0.119400   \n",
      "3     TCGA-AX-A2H7-01      0.021308 -0.717660    -0.493150       -0.370670   \n",
      "4     TCGA-AX-A2HA-01      0.108640  0.090459     0.339620       -0.017032   \n",
      "...               ...           ...       ...          ...             ...   \n",
      "7749  TCGA-VQ-A8DU-01     -0.048516 -0.073244    -0.034748       -0.649850   \n",
      "7750  TCGA-VQ-A8DT-01     -0.139280 -0.169090     0.125880       -1.216300   \n",
      "7751  TCGA-IN-A7NR-01     -0.232530 -0.509850     0.429300        0.444290   \n",
      "7752  TCGA-RD-A8MV-01     -0.019379  0.250550     0.376320        0.926290   \n",
      "7753  TCGA-KB-A93G-01     -0.064041 -0.247550    -0.042583       -0.014209   \n",
      "\n",
      "        X53BP1  ACC_pS79     ACC1       AKT  AKT_pS473  ...  CHK1_pS296  \\\n",
      "0     0.021656   2.21700  2.37550 -0.278160   -1.20050  ...    0.342840   \n",
      "1    -0.947890   0.41386  0.50057 -0.635490    0.85884  ...    0.216650   \n",
      "2     0.374310   0.00000 -0.23451  0.338930    0.30467  ...   -0.036242   \n",
      "3     0.195980   0.32478  0.42861  0.116670    0.56017  ...    0.082728   \n",
      "4     0.266380  -1.24100 -1.09810 -1.145600   -0.41474  ...    0.202660   \n",
      "...        ...       ...      ...       ...        ...  ...         ...   \n",
      "7749 -0.407540  -1.39370 -1.47300 -0.481990   -0.97238  ...    0.002732   \n",
      "7750 -0.657220  -0.61348 -0.78547 -0.200010   -0.80668  ...   -0.153640   \n",
      "7751 -0.565080  -0.43580 -1.46160  0.009025    0.60736  ...   -0.177360   \n",
      "7752 -2.084400  -0.63963 -1.04320 -1.877600   -0.46353  ...   -0.018805   \n",
      "7753 -1.377900  -0.62254 -0.85750 -0.333640    0.56000  ...   -0.119130   \n",
      "\n",
      "          COG3     DUSP4     ERCC5  IGF1R_pY1135Y1136      IRF1      JAK2  \\\n",
      "0    -0.187920 -0.562350 -0.300170           0.153210 -0.165840 -0.212820   \n",
      "1    -0.086944 -0.231180  0.256720           0.098167  0.236690  0.174500   \n",
      "2     0.059741 -0.375340  0.056021          -0.011055 -0.399340 -0.039017   \n",
      "3     0.074237 -0.361160 -0.257720           0.065891 -0.219940  0.116700   \n",
      "4    -0.108580  0.120520 -0.184920          -0.052694  0.001150  0.483320   \n",
      "...        ...       ...       ...                ...       ...       ...   \n",
      "7749 -0.366760 -0.543580 -1.203700          -0.018443 -0.225050 -0.091311   \n",
      "7750  0.135010  1.317900 -0.339530          -0.100710 -0.024453 -0.151100   \n",
      "7751 -0.021167  0.007237 -0.013777           0.024895  0.326390 -0.287180   \n",
      "7752 -0.534090  0.873200  0.758660           0.181290  0.333570 -0.534320   \n",
      "7753 -0.499570  0.094253 -0.425890           0.048584  0.062052 -0.312870   \n",
      "\n",
      "      P16INK4A  SHP2_pY542      PDL1  \n",
      "0    -0.667480    0.065243 -0.211030  \n",
      "1     1.647200    0.063824  0.787150  \n",
      "2     0.440300    0.292810  0.033804  \n",
      "3    -0.887010    0.159430  0.109700  \n",
      "4    -0.757430   -0.359640 -0.070833  \n",
      "...        ...         ...       ...  \n",
      "7749  1.281900   -0.948590  0.349620  \n",
      "7750 -0.255410   -1.088100 -0.070307  \n",
      "7751 -0.089055    0.639800 -0.197000  \n",
      "7752  0.246050   -0.127830  0.102580  \n",
      "7753 -0.336530    0.165550  0.251660  \n",
      "\n",
      "[7754 rows x 211 columns]\n",
      "Processed RPPA data.\n",
      "Processing CNA data...\n"
     ]
    },
    {
     "data": {
      "application/vnd.jupyter.widget-view+json": {
       "model_id": "b329bd102f5a49dc9154f05876cdc794",
       "version_major": 2,
       "version_minor": 0
      },
      "text/plain": [
       "Pandas Apply:   0%|          | 0/959 [00:00<?, ?it/s]"
      ]
     },
     "metadata": {},
     "output_type": "display_data"
    },
    {
     "data": {
      "application/vnd.jupyter.widget-view+json": {
       "model_id": "2ef8ea39694f4e61acfafc2937366096",
       "version_major": 2,
       "version_minor": 0
      },
      "text/plain": [
       "Pandas Apply:   0%|          | 0/959 [00:00<?, ?it/s]"
      ]
     },
     "metadata": {},
     "output_type": "display_data"
    },
    {
     "data": {
      "application/vnd.jupyter.widget-view+json": {
       "model_id": "6eca377013aa4e9891e3304a9fb6d453",
       "version_major": 2,
       "version_minor": 0
      },
      "text/plain": [
       "Pandas Apply:   0%|          | 0/959 [00:00<?, ?it/s]"
      ]
     },
     "metadata": {},
     "output_type": "display_data"
    },
    {
     "data": {
      "application/vnd.jupyter.widget-view+json": {
       "model_id": "edb0c1b730ec431fa50fb7d08a809c5a",
       "version_major": 2,
       "version_minor": 0
      },
      "text/plain": [
       "Pandas Apply:   0%|          | 0/959 [00:00<?, ?it/s]"
      ]
     },
     "metadata": {},
     "output_type": "display_data"
    },
    {
     "data": {
      "application/vnd.jupyter.widget-view+json": {
       "model_id": "94604841049e4f3c9de79cff06daab01",
       "version_major": 2,
       "version_minor": 0
      },
      "text/plain": [
       "Pandas Apply:   0%|          | 0/959 [00:00<?, ?it/s]"
      ]
     },
     "metadata": {},
     "output_type": "display_data"
    },
    {
     "data": {
      "application/vnd.jupyter.widget-view+json": {
       "model_id": "7773321b3192487c8fbcda391f24e67f",
       "version_major": 2,
       "version_minor": 0
      },
      "text/plain": [
       "Pandas Apply:   0%|          | 0/959 [00:00<?, ?it/s]"
      ]
     },
     "metadata": {},
     "output_type": "display_data"
    },
    {
     "name": "stdout",
     "output_type": "stream",
     "text": [
      "             sample_id   34  204  205  249  473  533  576  656  712  ...  \\\n",
      "0      TCGA-A5-A0GI-01  0.0  0.0  0.0  0.0  0.0  0.0  0.0  0.0  0.0  ...   \n",
      "1      TCGA-S9-A7J2-01 -1.0 -1.0 -1.0 -1.0 -1.0 -1.0 -1.0 -1.0 -1.0  ...   \n",
      "2      TCGA-06-0150-01  0.0  0.0  0.0  0.0  0.0  0.0  0.0  0.0  0.0  ...   \n",
      "3      TCGA-AR-A1AH-01  2.0 -1.0  2.0 -1.0 -1.0  2.0 -1.0  0.0 -1.0  ...   \n",
      "4      TCGA-EK-A2RE-01  0.0  0.0  0.0  0.0  0.0  0.0  0.0  0.0  0.0  ...   \n",
      "...                ...  ...  ...  ...  ...  ...  ...  ...  ...  ...  ...   \n",
      "10840  TCGA-IB-7885-01  0.0  0.0  0.0  0.0  0.0  0.0  0.0  0.0  0.0  ...   \n",
      "10841  TCGA-95-7947-01  0.0  0.0  0.0  0.0  0.0  0.0  0.0  0.0  0.0  ...   \n",
      "10842  TCGA-VQ-AA6F-01  0.0  0.0  0.0  0.0  0.0  0.0  0.0  0.0  0.0  ...   \n",
      "10843  TCGA-BR-8588-01  1.0  1.0  1.0  1.0  1.0  1.0  1.0  1.0  1.0  ...   \n",
      "10844  TCGA-DD-A115-01  0.0  0.0  0.0  0.0  0.0  0.0  0.0  0.0  0.0  ...   \n",
      "\n",
      "       106481100  106481135  106481157  106481167  106481845  106481849  \\\n",
      "0            0.0        0.0        0.0        0.0        0.0        0.0   \n",
      "1           -1.0       -1.0       -1.0       -1.0       -1.0       -1.0   \n",
      "2            0.0        0.0        0.0        0.0        0.0        0.0   \n",
      "3           -1.0        2.0        2.0       -1.0        2.0       -1.0   \n",
      "4            0.0        0.0        0.0        0.0        0.0        0.0   \n",
      "...          ...        ...        ...        ...        ...        ...   \n",
      "10840        0.0        0.0        0.0        0.0        0.0        0.0   \n",
      "10841        0.0        0.0        0.0        0.0        0.0        0.0   \n",
      "10842        0.0        0.0        0.0        0.0        0.0        0.0   \n",
      "10843        1.0        1.0        1.0        1.0        1.0        1.0   \n",
      "10844        0.0        0.0        0.0        0.0        0.0        0.0   \n",
      "\n",
      "       106481855  107048981  107074708  124906933  \n",
      "0            0.0        0.0        0.0        0.0  \n",
      "1           -1.0       -1.0       -1.0       -1.0  \n",
      "2            0.0        0.0        0.0        0.0  \n",
      "3           -1.0       -1.0        2.0        2.0  \n",
      "4            0.0        0.0        0.0        0.0  \n",
      "...          ...        ...        ...        ...  \n",
      "10840        0.0        0.0        0.0        0.0  \n",
      "10841        0.0        0.0        0.0        0.0  \n",
      "10842        0.0        0.0        0.0        0.0  \n",
      "10843        1.0        1.0        1.0        1.0  \n",
      "10844        0.0        0.0        0.0        0.0  \n",
      "\n",
      "[10845 rows x 955 columns]\n",
      "             sample_id     34    204    205    249    473    533    576  \\\n",
      "0      TCGA-A5-A0GI-01 -0.001 -0.001 -0.001 -0.001 -0.001 -0.001 -0.001   \n",
      "1      TCGA-S9-A7J2-01 -0.923 -0.872 -0.923 -0.872 -0.872 -0.872 -0.872   \n",
      "2      TCGA-06-0150-01  0.002  0.002  0.002  0.002  0.002  0.002  0.002   \n",
      "3      TCGA-AR-A1AH-01  1.378 -0.733  1.485 -0.733 -0.733  1.491 -0.733   \n",
      "4      TCGA-EK-A2RE-01  0.010 -0.025  0.010 -0.025 -0.025  0.010 -0.025   \n",
      "...                ...    ...    ...    ...    ...    ...    ...    ...   \n",
      "10840  TCGA-IB-7885-01  0.012  0.012  0.012  0.012  0.012  0.012  0.012   \n",
      "10841  TCGA-95-7947-01  0.028 -0.033 -0.033 -0.033 -0.033 -0.033 -0.033   \n",
      "10842  TCGA-VQ-AA6F-01 -0.057 -0.057 -0.057 -0.057 -0.057 -0.057 -0.057   \n",
      "10843  TCGA-BR-8588-01  0.151  0.151  0.151  0.151  0.151  0.151  0.151   \n",
      "10844  TCGA-DD-A115-01  0.032 -0.044  0.032 -0.048 -0.051 -0.018 -0.048   \n",
      "\n",
      "         656    712  ...  106481100  106481135  106481157  106481167  \\\n",
      "0     -0.001 -0.001  ...     -0.001     -0.001     -0.001     -0.001   \n",
      "1     -0.872 -0.872  ...     -0.872     -0.872     -0.923     -0.872   \n",
      "2      0.002  0.002  ...      0.002      0.002      0.002      0.002   \n",
      "3      0.039 -0.733  ...     -0.733      1.485      1.378     -0.733   \n",
      "4      0.010 -0.025  ...     -0.025      0.010      0.010     -0.025   \n",
      "...      ...    ...  ...        ...        ...        ...        ...   \n",
      "10840  0.012  0.012  ...      0.012      0.012      0.012      0.012   \n",
      "10841 -0.033 -0.033  ...     -0.033     -0.033      0.028     -0.033   \n",
      "10842 -0.057 -0.057  ...     -0.057     -0.057     -0.057     -0.057   \n",
      "10843  0.151  0.151  ...      0.151      0.151      0.151      0.151   \n",
      "10844 -0.044 -0.048  ...     -0.051      0.032      0.032     -0.048   \n",
      "\n",
      "       106481845  106481849  106481855  107048981  107074708  124906933  \n",
      "0         -0.001     -0.001     -0.001     -0.001     -0.001     -0.001  \n",
      "1         -0.923     -0.872     -0.872     -0.872     -0.872     -0.872  \n",
      "2          0.002      0.002      0.002      0.002      0.002      0.002  \n",
      "3          1.485     -0.733     -0.733     -0.733      1.646      1.646  \n",
      "4          0.010     -0.025     -0.025     -0.025     -0.025     -0.025  \n",
      "...          ...        ...        ...        ...        ...        ...  \n",
      "10840      0.012      0.012      0.012      0.012      0.012      0.012  \n",
      "10841     -0.033     -0.033     -0.033     -0.033     -0.033     -0.033  \n",
      "10842     -0.057     -0.057     -0.057     -0.057     -0.057     -0.057  \n",
      "10843      0.151      0.151      0.151      0.151      0.151      0.151  \n",
      "10844      0.032     -0.048     -0.048     -0.051     -0.051     -0.051  \n",
      "\n",
      "[10845 rows x 955 columns]\n",
      "Processed CNA data.\n",
      "Processing Cancer Type data...\n"
     ]
    },
    {
     "data": {
      "application/vnd.jupyter.widget-view+json": {
       "model_id": "f54018f15de04c749d17e7d0049077be",
       "version_major": 2,
       "version_minor": 0
      },
      "text/plain": [
       "Pandas Apply:   0%|          | 0/12804 [00:00<?, ?it/s]"
      ]
     },
     "metadata": {},
     "output_type": "display_data"
    },
    {
     "name": "stdout",
     "output_type": "stream",
     "text": [
      "             sample_id cancer_type\n",
      "0      TCGA-D3-A1QA-07        skcm\n",
      "1      TCGA-DE-A4MD-06        thcm\n",
      "2      TCGA-J8-A3O2-06        thcm\n",
      "3      TCGA-J8-A3YH-06        thcm\n",
      "4      TCGA-EM-A2P1-06        thcm\n",
      "...                ...         ...\n",
      "12799  TCGA-17-Z059-01        luad\n",
      "12800  TCGA-17-Z060-01        luad\n",
      "12801  TCGA-17-Z061-01        luad\n",
      "12802  TCGA-17-Z062-01        luad\n",
      "12803  TCGA-02-0002-01         gbm\n",
      "\n",
      "[12804 rows x 2 columns]\n",
      "             sample_id  cancer_type_acc  cancer_type_blca  cancer_type_brca  \\\n",
      "0      TCGA-D3-A1QA-07                0                 0                 0   \n",
      "1      TCGA-DE-A4MD-06                0                 0                 0   \n",
      "2      TCGA-J8-A3O2-06                0                 0                 0   \n",
      "3      TCGA-J8-A3YH-06                0                 0                 0   \n",
      "4      TCGA-EM-A2P1-06                0                 0                 0   \n",
      "...                ...              ...               ...               ...   \n",
      "12799  TCGA-17-Z059-01                0                 0                 0   \n",
      "12800  TCGA-17-Z060-01                0                 0                 0   \n",
      "12801  TCGA-17-Z061-01                0                 0                 0   \n",
      "12802  TCGA-17-Z062-01                0                 0                 0   \n",
      "12803  TCGA-02-0002-01                0                 0                 0   \n",
      "\n",
      "       cancer_type_cesc  cancer_type_chol  cancer_type_coad  cancer_type_dlbc  \\\n",
      "0                     0                 0                 0                 0   \n",
      "1                     0                 0                 0                 0   \n",
      "2                     0                 0                 0                 0   \n",
      "3                     0                 0                 0                 0   \n",
      "4                     0                 0                 0                 0   \n",
      "...                 ...               ...               ...               ...   \n",
      "12799                 0                 0                 0                 0   \n",
      "12800                 0                 0                 0                 0   \n",
      "12801                 0                 0                 0                 0   \n",
      "12802                 0                 0                 0                 0   \n",
      "12803                 0                 0                 0                 0   \n",
      "\n",
      "       cancer_type_esca  cancer_type_gbm  ...  cancer_type_read  \\\n",
      "0                     0                0  ...                 0   \n",
      "1                     0                0  ...                 0   \n",
      "2                     0                0  ...                 0   \n",
      "3                     0                0  ...                 0   \n",
      "4                     0                0  ...                 0   \n",
      "...                 ...              ...  ...               ...   \n",
      "12799                 0                0  ...                 0   \n",
      "12800                 0                0  ...                 0   \n",
      "12801                 0                0  ...                 0   \n",
      "12802                 0                0  ...                 0   \n",
      "12803                 0                1  ...                 0   \n",
      "\n",
      "       cancer_type_sarc  cancer_type_skcm  cancer_type_stad  cancer_type_tgct  \\\n",
      "0                     0                 1                 0                 0   \n",
      "1                     0                 0                 0                 0   \n",
      "2                     0                 0                 0                 0   \n",
      "3                     0                 0                 0                 0   \n",
      "4                     0                 0                 0                 0   \n",
      "...                 ...               ...               ...               ...   \n",
      "12799                 0                 0                 0                 0   \n",
      "12800                 0                 0                 0                 0   \n",
      "12801                 0                 0                 0                 0   \n",
      "12802                 0                 0                 0                 0   \n",
      "12803                 0                 0                 0                 0   \n",
      "\n",
      "       cancer_type_thcm  cancer_type_thym  cancer_type_ucec  cancer_type_ucs  \\\n",
      "0                     0                 0                 0                0   \n",
      "1                     1                 0                 0                0   \n",
      "2                     1                 0                 0                0   \n",
      "3                     1                 0                 0                0   \n",
      "4                     1                 0                 0                0   \n",
      "...                 ...               ...               ...              ...   \n",
      "12799                 0                 0                 0                0   \n",
      "12800                 0                 0                 0                0   \n",
      "12801                 0                 0                 0                0   \n",
      "12802                 0                 0                 0                0   \n",
      "12803                 0                 0                 0                0   \n",
      "\n",
      "       cancer_type_uvm  \n",
      "0                    0  \n",
      "1                    0  \n",
      "2                    0  \n",
      "3                    0  \n",
      "4                    0  \n",
      "...                ...  \n",
      "12799                0  \n",
      "12800                0  \n",
      "12801                0  \n",
      "12802                0  \n",
      "12803                0  \n",
      "\n",
      "[12804 rows x 34 columns]\n",
      "Processed Cancer Type data...\n",
      "Processing Tumor Purity data...\n"
     ]
    },
    {
     "data": {
      "application/vnd.jupyter.widget-view+json": {
       "model_id": "3a74bcfc1c37406f87745fe1e29f9e34",
       "version_major": 2,
       "version_minor": 0
      },
      "text/plain": [
       "Pandas Apply:   0%|          | 0/10805 [00:00<?, ?it/s]"
      ]
     },
     "metadata": {},
     "output_type": "display_data"
    },
    {
     "data": {
      "application/vnd.jupyter.widget-view+json": {
       "model_id": "fef33c16834f40fd93a2c4f93d1357e7",
       "version_major": 2,
       "version_minor": 0
      },
      "text/plain": [
       "Pandas Apply:   0%|          | 0/10770 [00:00<?, ?it/s]"
      ]
     },
     "metadata": {},
     "output_type": "display_data"
    },
    {
     "name": "stdout",
     "output_type": "stream",
     "text": [
      "             sample_id    purity\n",
      "0      TCGA-OR-A5J1-01  0.924600\n",
      "1      TCGA-OR-A5J2-01  0.898500\n",
      "2      TCGA-OR-A5J3-01  0.946600\n",
      "3      TCGA-OR-A5J4-01  0.866000\n",
      "4      TCGA-OR-A5J5-01  0.978000\n",
      "...                ...       ...\n",
      "10800  TCGA-XU-A92Z-01  0.804001\n",
      "10801  TCGA-X7-A8D8-01  0.752956\n",
      "10802  TCGA-XU-A92O-01  0.808031\n",
      "10803  TCGA-X7-A8M8-01  0.731812\n",
      "10804  TCGA-3G-AB14-01  0.752233\n",
      "\n",
      "[10770 rows x 2 columns]\n",
      "Processed Tumor Purity data.\n",
      "Processing GEX data...\n"
     ]
    },
    {
     "data": {
      "application/vnd.jupyter.widget-view+json": {
       "model_id": "12bffb72f5624151a3729f5e2f507a21",
       "version_major": 2,
       "version_minor": 0
      },
      "text/plain": [
       "Pandas Apply:   0%|          | 0/1000 [00:00<?, ?it/s]"
      ]
     },
     "metadata": {},
     "output_type": "display_data"
    },
    {
     "data": {
      "application/vnd.jupyter.widget-view+json": {
       "model_id": "3f3855c52f894ecdb26c295f8e41f4f2",
       "version_major": 2,
       "version_minor": 0
      },
      "text/plain": [
       "Pandas Apply:   0%|          | 0/1000 [00:00<?, ?it/s]"
      ]
     },
     "metadata": {},
     "output_type": "display_data"
    },
    {
     "data": {
      "application/vnd.jupyter.widget-view+json": {
       "model_id": "ee5694e958124fc99ab8f19e64c87b0d",
       "version_major": 2,
       "version_minor": 0
      },
      "text/plain": [
       "Pandas Apply:   0%|          | 0/449 [00:00<?, ?it/s]"
      ]
     },
     "metadata": {},
     "output_type": "display_data"
    },
    {
     "data": {
      "application/vnd.jupyter.widget-view+json": {
       "model_id": "3ab116ccc27a4a9398a00e4d0deac649",
       "version_major": 2,
       "version_minor": 0
      },
      "text/plain": [
       "Pandas Apply:   0%|          | 0/449 [00:00<?, ?it/s]"
      ]
     },
     "metadata": {},
     "output_type": "display_data"
    },
    {
     "data": {
      "application/vnd.jupyter.widget-view+json": {
       "model_id": "6d58c5c4db1147509fff29465a12febc",
       "version_major": 2,
       "version_minor": 0
      },
      "text/plain": [
       "Pandas Apply:   0%|          | 0/449 [00:00<?, ?it/s]"
      ]
     },
     "metadata": {},
     "output_type": "display_data"
    },
    {
     "name": "stdout",
     "output_type": "stream",
     "text": [
      "            sample_id  100507661  105372097    53916    57103  104472717  \\\n",
      "0     TCGA-19-1787-01     0.0000     2.0000  10.3835   9.7764     7.1898   \n",
      "1     TCGA-S9-A7J2-01     4.6439     2.8074   9.9144   8.7649     5.0875   \n",
      "2     TCGA-EK-A2RE-01     0.0000     0.0000  10.0543  10.6375     0.0000   \n",
      "3     TCGA-44-6778-01     0.0000     1.5850   9.8319   9.0954     6.8948   \n",
      "4     TCGA-F4-6854-01     0.0000     0.0000   9.9701   9.4858     7.5774   \n",
      "...               ...        ...        ...      ...      ...        ...   \n",
      "9798  TCGA-IB-7885-01     0.0000     0.0000  10.4929   9.5755     5.0875   \n",
      "9799  TCGA-95-7947-01     0.0000     1.5850  11.4536   9.3287     2.3219   \n",
      "9800  TCGA-VQ-AA6F-01     0.0000     0.0000  11.2277  10.5127     6.8455   \n",
      "9801  TCGA-BR-8588-01     0.0000     0.0000   9.4450   9.8688     7.5314   \n",
      "9802  TCGA-DD-A115-01     0.0000     0.0000   9.0019   7.9484     4.0000   \n",
      "\n",
      "      100616274    22838   55567     6147  ...  388849    80135     8438  \\\n",
      "0           0.0  11.1624  3.0000  14.1243  ...  4.7004  11.1662   9.9488   \n",
      "1           0.0  11.9333  0.0000  13.7616  ...  4.8580   8.9915   5.1707   \n",
      "2           0.0  11.1157  7.1599  14.5443  ...  1.5850  11.3537   9.5902   \n",
      "3           0.0  11.3454  4.0875  13.2414  ...  4.5236  10.1923   8.5045   \n",
      "4           0.0  12.7099  7.2479  15.0865  ...  3.7004  10.7211  10.2562   \n",
      "...         ...      ...     ...      ...  ...     ...      ...      ...   \n",
      "9798        0.0  11.7069  6.7142  14.6213  ...  4.4594  10.9801   8.5455   \n",
      "9799        0.0  11.9538  9.0196  14.2452  ...  4.0000  11.0147   9.3053   \n",
      "9800        0.0  13.0694  7.9069  15.2174  ...  3.8074  10.7764   9.2406   \n",
      "9801        0.0  11.3548  6.0444  14.4275  ...  2.0000  10.4988   8.4638   \n",
      "9802        0.0  10.1774  4.8074  13.0408  ...  2.0000   9.6184   7.2650   \n",
      "\n",
      "        26973    6571    7733     8992     4969  118663     9683  \n",
      "0      9.9829  2.0976  8.8580  12.9202   5.1293  5.5236  11.1046  \n",
      "1     10.6640  2.6276  8.2095  12.1889   5.4919  1.0000  11.4189  \n",
      "2     11.4514  5.3462  9.1085  13.2131   1.0000  3.3219  12.7041  \n",
      "3     10.6015  7.9912  8.7616  12.0133   8.2336  1.0000  11.5493  \n",
      "4     10.3437  4.3820  8.6795  12.9280   6.8202  6.6724  11.5250  \n",
      "...       ...     ...     ...      ...      ...     ...      ...  \n",
      "9798  10.5539  6.4276  8.3707  13.7557   9.3837  4.7004  11.9979  \n",
      "9799   9.9653  6.2407  9.2784  13.1665   6.3923  0.0000  11.3712  \n",
      "9800  10.5338  8.3767  9.7313  13.5452   5.9542  7.0000  12.0151  \n",
      "9801  10.1523  6.9920  7.9425  12.7432  11.0279  4.0875  11.0881  \n",
      "9802   8.4769  3.8866  8.0000  12.2877   7.2761  3.7004   9.6952  \n",
      "\n",
      "[9803 rows x 450 columns]\n",
      "Processed GEX data.\n",
      "Saving data...\n"
     ]
    },
    {
     "data": {
      "application/vnd.jupyter.widget-view+json": {
       "model_id": "27eaf42260154f23b2fdef677fb82f78",
       "version_major": 2,
       "version_minor": 0
      },
      "text/plain": [
       "Pandas Apply:   0%|          | 0/7754 [00:00<?, ?it/s]"
      ]
     },
     "metadata": {},
     "output_type": "display_data"
    },
    {
     "name": "stdout",
     "output_type": "stream",
     "text": [
      "rppa_df.shape: (6450, 211)\n"
     ]
    },
    {
     "data": {
      "application/vnd.jupyter.widget-view+json": {
       "model_id": "0222cb20a769478ca2ecdea105fc32c5",
       "version_major": 2,
       "version_minor": 0
      },
      "text/plain": [
       "Pandas Apply:   0%|          | 0/10845 [00:00<?, ?it/s]"
      ]
     },
     "metadata": {},
     "output_type": "display_data"
    },
    {
     "name": "stdout",
     "output_type": "stream",
     "text": [
      "thresholded_cna_df.shape: (9168, 24)\n"
     ]
    },
    {
     "data": {
      "application/vnd.jupyter.widget-view+json": {
       "model_id": "5312afdaecf841d78548b04952a50812",
       "version_major": 2,
       "version_minor": 0
      },
      "text/plain": [
       "Pandas Apply:   0%|          | 0/10845 [00:00<?, ?it/s]"
      ]
     },
     "metadata": {},
     "output_type": "display_data"
    },
    {
     "name": "stdout",
     "output_type": "stream",
     "text": [
      "unthresholded_cna_df.shape: (9168, 24)\n"
     ]
    },
    {
     "data": {
      "application/vnd.jupyter.widget-view+json": {
       "model_id": "d30ae27b3748418fa3f27bc95c0e7792",
       "version_major": 2,
       "version_minor": 0
      },
      "text/plain": [
       "Pandas Apply:   0%|          | 0/10770 [00:00<?, ?it/s]"
      ]
     },
     "metadata": {},
     "output_type": "display_data"
    },
    {
     "name": "stdout",
     "output_type": "stream",
     "text": [
      "tumor_purity_df.shape: (9168, 2)\n"
     ]
    },
    {
     "data": {
      "application/vnd.jupyter.widget-view+json": {
       "model_id": "86b5e7d5bfa04fb6a188c0ed66d85055",
       "version_major": 2,
       "version_minor": 0
      },
      "text/plain": [
       "Pandas Apply:   0%|          | 0/12804 [00:00<?, ?it/s]"
      ]
     },
     "metadata": {},
     "output_type": "display_data"
    },
    {
     "name": "stdout",
     "output_type": "stream",
     "text": [
      "cancer_type_df.shape: (9168, 2)\n"
     ]
    },
    {
     "data": {
      "application/vnd.jupyter.widget-view+json": {
       "model_id": "74509110905b49c1861c5dec43e1c99c",
       "version_major": 2,
       "version_minor": 0
      },
      "text/plain": [
       "Pandas Apply:   0%|          | 0/12804 [00:00<?, ?it/s]"
      ]
     },
     "metadata": {},
     "output_type": "display_data"
    },
    {
     "name": "stdout",
     "output_type": "stream",
     "text": [
      "cancer_type_one_hot_df.shape (9168, 34)\n"
     ]
    },
    {
     "data": {
      "application/vnd.jupyter.widget-view+json": {
       "model_id": "f82bf27cf0764854958b60110fda15b1",
       "version_major": 2,
       "version_minor": 0
      },
      "text/plain": [
       "Pandas Apply:   0%|          | 0/9803 [00:00<?, ?it/s]"
      ]
     },
     "metadata": {},
     "output_type": "display_data"
    },
    {
     "name": "stdout",
     "output_type": "stream",
     "text": [
      "gex_df.shape: (9168, 24)\n",
      "Saved data.\n"
     ]
    }
   ],
   "source": [
    "#!/usr/bin/env python\n",
    "# coding: utf-8\n",
    "\n",
    "# In[1]:\n",
    "\n",
    "\n",
    "development = False\n",
    "\n",
    "\n",
    "# In[3]:\n",
    "\n",
    "\n",
    "import os\n",
    "import numpy as np\n",
    "import pandas as pd\n",
    "import swifter\n",
    "\n",
    "\n",
    "# In[4]:\n",
    "\n",
    "\n",
    "data_dir = \"../data\"\n",
    "raw_folder_name = \"raw\"\n",
    "if development:\n",
    "    processed_folder_name = \"development\"\n",
    "else:\n",
    "    processed_folder_name = \"processed\"\n",
    "\n",
    "os.makedirs(os.path.join(data_dir, processed_folder_name), exist_ok=True)\n",
    "\n",
    "\n",
    "# In[5]:\n",
    "\n",
    "\n",
    "tumor_sample_ids = [\"0\" + str(i) for i in range(1, 10)]\n",
    "\n",
    "\n",
    "# # Process RPPA Data\n",
    "\n",
    "# In[6]:\n",
    "\n",
    "print(\"Processing RPPA data...\")\n",
    "rppa_file_name = \"TCGA-RPPA-pancan-clean.xena\"\n",
    "\n",
    "rppa_df = pd.read_csv(os.path.join(data_dir, \"raw\", rppa_file_name), sep=\"\\t\")\n",
    "rppa_df.index = rppa_df[\"SampleID\"].tolist()\n",
    "rppa_df.drop(columns=[\"SampleID\"], inplace=True)\n",
    "rppa_df = rppa_df.T\n",
    "rppa_df.reset_index(drop=False, inplace=True)\n",
    "rppa_df.rename(columns={\"index\": \"sample_id\"}, inplace=True)\n",
    "rppa_df = rppa_df.dropna(axis=1)\n",
    "\n",
    "if development:\n",
    "    print(rppa_df)\n",
    "\n",
    "print(\"Processed RPPA data.\")\n",
    "\n",
    "# # Process Thresholded and Unthresholded CNA Data\n",
    "\n",
    "# In[7]:\n",
    "\n",
    "print(\"Processing CNA data...\")\n",
    "thresholded_cna_file_name = \"TCGA.PANCAN.sampleMap_Gistic2_CopyNumber_Gistic2_all_thresholded.by_genes\"\n",
    "unthresholded_cna_file_name = \"TCGA.PANCAN.sampleMap_Gistic2_CopyNumber_Gistic2_all_data_by_genes\"\n",
    "\n",
    "hgnc_symbol_to_entrezgene_id_mapping_file_name = \"hgnc_to_entrezgene_id_mapping.tsv\"\n",
    "hgnc_symbol_to_entrezgene_id_mapping = dict(pd.read_csv(os.path.join(data_dir, raw_folder_name, hgnc_symbol_to_entrezgene_id_mapping_file_name), sep=\"\\t\").values)\n",
    "\n",
    "gex_file_name = \"tcga_gene_expected_count\"\n",
    "gex_df = pd.read_csv(os.path.join(data_dir, \"raw\", gex_file_name), sep=\"\\t\", usecols=[\"sample\"])\n",
    "gex_ensembl_ids = frozenset(gex_df[\"sample\"].tolist())\n",
    "del gex_df\n",
    "\n",
    "def process_cna_df(cna_file_name):\n",
    "    if development:\n",
    "        cna_df = pd.read_csv(os.path.join(data_dir, \"raw\", cna_file_name), sep=\"\\t\", nrows=1000)\n",
    "    else:\n",
    "        cna_df = pd.read_csv(os.path.join(data_dir, \"raw\", cna_file_name), sep=\"\\t\")\n",
    "\n",
    "    for index, row in cna_df.iterrows():\n",
    "        sample_splitted = row[\"Sample\"].split(\"|\")\n",
    "        if len(sample_splitted) == 1:\n",
    "            cna_df.at[index, \"ensembl_id\"] = \"\"\n",
    "            cna_df.at[index, \"entrezgene_id\"] = hgnc_symbol_to_entrezgene_id_mapping.get(sample_splitted[0], np.NaN)\n",
    "        elif len(sample_splitted) == 2:\n",
    "            cna_df.at[index, \"ensembl_id\"] = sample_splitted[1]\n",
    "            cna_df.at[index, \"entrezgene_id\"] = hgnc_symbol_to_entrezgene_id_mapping.get(sample_splitted[0], np.NaN)\n",
    "        else:\n",
    "            raise Exception(\"sample_splitted has more than 1 '|'s\")\n",
    "\n",
    "    cna_df = cna_df[~pd.isnull(cna_df[\"entrezgene_id\"])]\n",
    "    cna_df[\"entrezgene_id\"] = cna_df[\"entrezgene_id\"].swifter.apply(lambda x: int(x))\n",
    "\n",
    "    cna_df[\"ensembl_id_is_not_in_gex_ensembl_ids\"] = cna_df[\"ensembl_id\"].swifter.apply(lambda x: 1 * (x not in gex_ensembl_ids))\n",
    "\n",
    "    def get_ensembl_version(ensembl_id):\n",
    "        if pd.isnull(ensembl_id) or ensembl_id == \"\":\n",
    "            return -1\n",
    "        else:\n",
    "            return int(ensembl_id.split(\".\")[-1])\n",
    "\n",
    "    cna_df[\"ensembl_version\"] = cna_df[\"ensembl_id\"].swifter.apply(lambda ensembl_id: get_ensembl_version(ensembl_id))\n",
    "\n",
    "    def select_one_row_per_entrezgene_id(x):\n",
    "        return x.sort_values(by=[\"ensembl_id_is_not_in_gex_ensembl_ids\", \"ensembl_version\"], ascending=True).iloc[0, :]\n",
    "\n",
    "    cna_df = cna_df.swifter.groupby(\"entrezgene_id\").apply(lambda x: select_one_row_per_entrezgene_id(x)).reset_index(drop=True)\n",
    "\n",
    "    cna_df.drop(columns=[\"Sample\", \"ensembl_id\", \"ensembl_id_is_not_in_gex_ensembl_ids\", \"ensembl_version\"], inplace=True)\n",
    "\n",
    "    cna_df.set_index(\"entrezgene_id\", inplace=True)\n",
    "\n",
    "    cna_df = cna_df.T\n",
    "\n",
    "    cna_df.reset_index(drop=False, inplace=True)\n",
    "    cna_df = cna_df.rename_axis(None, axis=1)\n",
    "    cna_df.rename(columns={\"index\": \"sample_id\"}, inplace=True)\n",
    "\n",
    "    return cna_df\n",
    "\n",
    "thresholded_cna_df = process_cna_df(cna_file_name=thresholded_cna_file_name)\n",
    "unthresholded_cna_df = process_cna_df(cna_file_name=unthresholded_cna_file_name)\n",
    "\n",
    "if development:\n",
    "    print(thresholded_cna_df)\n",
    "    print(unthresholded_cna_df)\n",
    "\n",
    "print(\"Processed CNA data.\")\n",
    "\n",
    "# # Process Cancer Type Data\n",
    "\n",
    "# In[8]:\n",
    "\n",
    "print(\"Processing Cancer Type data...\")\n",
    "\n",
    "cancer_type_file_name = \"TCGA_phenotype_denseDataOnlyDownload.tsv\"\n",
    "cancer_type_full_name_to_abbreviation_mapping_file_name = \"cancer_type_full_name_to_abbrreviation_mapping.tsv\"\n",
    "\n",
    "cancer_type_full_name_to_abbreviation_mapping = dict(pd.read_csv(os.path.join(data_dir, raw_folder_name, cancer_type_full_name_to_abbreviation_mapping_file_name), sep=\"\\t\").values)\n",
    "\n",
    "cancer_type_df = pd.read_csv(os.path.join(data_dir, raw_folder_name, cancer_type_file_name), sep=\"\\t\")\n",
    "cancer_type_df = cancer_type_df.rename(columns={\"sample\": \"sample_id\", \"_primary_disease\": \"cancer_type\"})\n",
    "cancer_type_df = cancer_type_df[[\"sample_id\", \"cancer_type\"]]\n",
    "cancer_type_df[\"cancer_type\"] = cancer_type_df[\"cancer_type\"].swifter.apply(lambda x: cancer_type_full_name_to_abbreviation_mapping[x])\n",
    "\n",
    "cancer_type_one_hot_df = pd.get_dummies(data=cancer_type_df, columns=[\"cancer_type\"])\n",
    "\n",
    "if development:\n",
    "    print(cancer_type_df)\n",
    "    print(cancer_type_one_hot_df)\n",
    "\n",
    "print(\"Processed Cancer Type data...\")\n",
    "\n",
    "# # Process Tumor Purity Data\n",
    "\n",
    "# In[9]:\n",
    "\n",
    "print(\"Processing Tumor Purity data...\")\n",
    "\n",
    "tumor_purity_cpe_file_name = \"tumor_purity.csv\"\n",
    "tumor_purity_estimate_file_name = \"tumor_purity_ESTIMATE.csv\"\n",
    "\n",
    "tumor_purity_cpe_df = pd.read_csv(os.path.join(data_dir, raw_folder_name, tumor_purity_cpe_file_name))\n",
    "tumor_purity_estimate_df = pd.read_csv(os.path.join(data_dir, raw_folder_name, tumor_purity_estimate_file_name))\n",
    "\n",
    "tumor_sample_id_purity_mapping = {}\n",
    "for _, row in tumor_purity_cpe_df.iterrows():\n",
    "    sample_id = row[\"Sample.ID\"]\n",
    "    purity_cpe = row[\"CPE\"]\n",
    "    purity_estimate = row[\"ESTIMATE\"]\n",
    "    purity_absolute = row[\"ABSOLUTE\"]\n",
    "\n",
    "    if not pd.isnull(purity_cpe):\n",
    "        tumor_sample_id_purity_mapping[sample_id] = float(purity_cpe.replace(\",\", \".\"))\n",
    "        continue\n",
    "\n",
    "    if not pd.isnull(purity_absolute):\n",
    "        tumor_sample_id_purity_mapping[sample_id] = float(purity_absolute.replace(\",\", \".\"))\n",
    "        continue\n",
    "\n",
    "    if not pd.isnull(purity_estimate):\n",
    "        tumor_sample_id_purity_mapping[sample_id] = float(purity_estimate.replace(\",\", \".\"))\n",
    "        continue\n",
    "\n",
    "for _, row in tumor_purity_estimate_df.iterrows():\n",
    "    sample_id = row[\"NAME\"]\n",
    "    purity_estimate = row[\"TumorPurity\"]\n",
    "    if not pd.isnull(purity_estimate):\n",
    "        tumor_sample_id_purity_mapping[sample_id] = purity_estimate\n",
    "\n",
    "tumor_purity_df = pd.DataFrame.from_dict({\"sample_id\": tumor_sample_id_purity_mapping.keys(),\n",
    "                                          \"purity\": tumor_sample_id_purity_mapping.values()})\n",
    "\n",
    "sample_id_dict = {}\n",
    "for sample_id in tumor_purity_df[\"sample_id\"].values:\n",
    "    if sample_id.split(\"-\")[3][:2] not in tumor_sample_ids:\n",
    "        continue\n",
    "    sample_id_first_15 = sample_id[:15]\n",
    "    if sample_id_first_15 in sample_id_dict.keys():\n",
    "        if sample_id < sample_id_dict[sample_id_first_15]:\n",
    "            sample_id_dict[sample_id_first_15] = sample_id\n",
    "        else:\n",
    "            continue\n",
    "    else:\n",
    "        sample_id_dict[sample_id_first_15] = sample_id\n",
    "\n",
    "tumor_purity_df = tumor_purity_df[tumor_purity_df[\"sample_id\"].swifter.apply(lambda x: x in list(sample_id_dict.values()))]\n",
    "tumor_purity_df[\"sample_id\"] = tumor_purity_df[\"sample_id\"].swifter.apply(lambda x: x[:15])\n",
    "\n",
    "if development:\n",
    "    print(tumor_purity_df)\n",
    "\n",
    "print(\"Processed Tumor Purity data.\")\n",
    "\n",
    "# # Process GEX Data\n",
    "\n",
    "# In[10]:\n",
    "print(\"Processing GEX data...\")\n",
    "\n",
    "ensembl_id_to_entrezgene_id_mapping_file_name = \"ensembl_id_to_entrezgene_id_mapping.tsv\"\n",
    "gex_file_name = \"tcga_gene_expected_count\"\n",
    "\n",
    "tumor_sample_ids = [\"0\" + str(i) for i in range(1, 10)]\n",
    "ensembl_id_to_entrezgene_id_mapping = dict(pd.read_csv(os.path.join(data_dir, raw_folder_name, ensembl_id_to_entrezgene_id_mapping_file_name), sep=\"\\t\").values)\n",
    "\n",
    "if development:\n",
    "    gex_df = pd.read_csv(os.path.join(data_dir, \"raw\", gex_file_name), sep=\"\\t\", nrows=1000)\n",
    "else:\n",
    "    gex_df = pd.read_csv(os.path.join(data_dir, \"raw\", gex_file_name), sep=\"\\t\")\n",
    "\n",
    "gex_df.rename(columns={\"sample\": \"ensembl_id\"}, inplace=True)\n",
    "gex_df = gex_df[[\"ensembl_id\"] + [column for column in gex_df.columns if column.split(\"-\")[-1] in tumor_sample_ids]]\n",
    "gex_df[\"ensembl_id\"] = gex_df[\"ensembl_id\"].swifter.apply(lambda x: x.split(\".\")[0]).tolist()\n",
    "gex_df = gex_df[gex_df[\"ensembl_id\"].swifter.apply(lambda x: x in ensembl_id_to_entrezgene_id_mapping.keys())]\n",
    "gex_df[\"entrezgene_id\"] = gex_df[\"ensembl_id\"].swifter.apply(lambda x: ensembl_id_to_entrezgene_id_mapping[x]).tolist()\n",
    "gex_df.drop(columns=[\"ensembl_id\"], inplace=True)\n",
    "\n",
    "def get_indices_with_max_expression_per_gene(x):\n",
    "    expression_sums = x[\"expression_sum\"].values\n",
    "    expression_argmax = np.argmax(expression_sums)\n",
    "    return x.iloc[expression_argmax, :][\"index\"]\n",
    "\n",
    "gex_df.reset_index(drop=True, inplace=True)\n",
    "gex_df[\"index\"] = gex_df.index.tolist()\n",
    "gex_df[\"expression_sum\"] = gex_df.drop(columns=[\"entrezgene_id\"]).values.sum(axis=1).tolist()\n",
    "selected_indices = gex_df[[\"index\", \"entrezgene_id\", \"expression_sum\"]].swifter.groupby(\"entrezgene_id\").apply(lambda x: get_indices_with_max_expression_per_gene(x)).tolist()\n",
    "gex_df = gex_df[gex_df[\"index\"].swifter.apply(lambda x: x in selected_indices)].drop(columns=[\"index\", \"expression_sum\"])\n",
    "gex_df[\"entrezgene_id\"] = gex_df[\"entrezgene_id\"].swifter.apply(lambda x: int(x))\n",
    "\n",
    "gex_df.index = gex_df[\"entrezgene_id\"].tolist()\n",
    "gex_df.drop(columns=[\"entrezgene_id\"], inplace=True)\n",
    "\n",
    "gex_df = gex_df.T\n",
    "gex_df.reset_index(drop=False, inplace=True)\n",
    "gex_df.rename(columns={\"index\": \"sample_id\"}, inplace=True)\n",
    "\n",
    "if development:\n",
    "    print(gex_df)\n",
    "\n",
    "print(\"Processed GEX data.\")\n",
    "\n",
    "\n",
    "# # Find intersecting sample IDs and columns\n",
    "\n",
    "# In[11]:\n",
    "\n",
    "gex_sample_ids = set(gex_df[\"sample_id\"].tolist())\n",
    "unthresholded_cna_sample_ids = set(unthresholded_cna_df[\"sample_id\"].tolist())\n",
    "thresholded_cna_sample_ids = set(thresholded_cna_df[\"sample_id\"].tolist())\n",
    "tumor_purity_sample_ids = set(tumor_purity_df[\"sample_id\"].tolist())\n",
    "cancer_type_sample_ids = set(cancer_type_df[\"sample_id\"].tolist())\n",
    "intersecting_sample_ids = gex_sample_ids.intersection(unthresholded_cna_sample_ids).intersection(thresholded_cna_sample_ids).intersection(tumor_purity_sample_ids).intersection(cancer_type_sample_ids)\n",
    "\n",
    "gex_gene_ids = set(gex_df.drop(columns=[\"sample_id\"]).columns)\n",
    "unthresholded_cna_gene_ids = set(unthresholded_cna_df.drop(columns=[\"sample_id\"]).columns)\n",
    "thresholded_cna_gene_ids = set(thresholded_cna_df.drop(columns=[\"sample_id\"]).columns)\n",
    "intersecting_columns = [\"sample_id\"] + sorted(list(gex_gene_ids.intersection(unthresholded_cna_gene_ids).intersection(thresholded_cna_gene_ids)))\n",
    "\n",
    "\n",
    "# # Save data\n",
    "\n",
    "# In[12]:\n",
    "print(\"Saving data...\")\n",
    "\n",
    "rppa_df = rppa_df[rppa_df[\"sample_id\"].swifter.apply(lambda x: x in intersecting_sample_ids)]\n",
    "rppa_df = rppa_df.sort_values(by=\"sample_id\")\n",
    "rppa_df.to_csv(os.path.join(data_dir, processed_folder_name, \"rppa.tsv\"), sep=\"\\t\", index=False)\n",
    "print(\"rppa_df.shape:\", rppa_df.shape)\n",
    "\n",
    "thresholded_cna_df = thresholded_cna_df[thresholded_cna_df[\"sample_id\"].swifter.apply(lambda x: x in intersecting_sample_ids)][intersecting_columns]\n",
    "thresholded_cna_df = thresholded_cna_df.sort_values(by=\"sample_id\")\n",
    "thresholded_cna_df.to_csv(os.path.join(data_dir, processed_folder_name, \"thresholded_cna.tsv\"), sep=\"\\t\", index=False)\n",
    "print(\"thresholded_cna_df.shape:\", thresholded_cna_df.shape)\n",
    "\n",
    "unthresholded_cna_df = unthresholded_cna_df[unthresholded_cna_df[\"sample_id\"].swifter.apply(lambda x: x in intersecting_sample_ids)][intersecting_columns]\n",
    "unthresholded_cna_df = unthresholded_cna_df.sort_values(by=\"sample_id\")\n",
    "unthresholded_cna_df.to_csv(os.path.join(data_dir, processed_folder_name, \"unthresholded_cna.tsv\"), sep=\"\\t\", index=False)\n",
    "print(\"unthresholded_cna_df.shape:\", unthresholded_cna_df.shape)\n",
    "\n",
    "tumor_purity_df = tumor_purity_df[tumor_purity_df[\"sample_id\"].swifter.apply(lambda x: x in intersecting_sample_ids)]\n",
    "tumor_purity_df = tumor_purity_df.sort_values(by=\"sample_id\")\n",
    "tumor_purity_df.to_csv(os.path.join(data_dir, processed_folder_name, \"tumor_purity.tsv\"), sep=\"\\t\", index=False)\n",
    "print(\"tumor_purity_df.shape:\", tumor_purity_df.shape)\n",
    "\n",
    "cancer_type_df = cancer_type_df[cancer_type_df[\"sample_id\"].swifter.apply(lambda x: x in intersecting_sample_ids)]\n",
    "cancer_type_df = cancer_type_df.sort_values(by=\"sample_id\")\n",
    "cancer_type_df.to_csv(os.path.join(data_dir, processed_folder_name, \"cancer_type.tsv\"), sep=\"\\t\", index=False)\n",
    "print(\"cancer_type_df.shape:\", cancer_type_df.shape)\n",
    "\n",
    "cancer_type_one_hot_df = cancer_type_one_hot_df[cancer_type_one_hot_df[\"sample_id\"].swifter.apply(lambda x: x in intersecting_sample_ids)]\n",
    "cancer_type_one_hot_df = cancer_type_one_hot_df.sort_values(by=\"sample_id\")\n",
    "cancer_type_one_hot_df.to_csv(os.path.join(data_dir, processed_folder_name, \"cancer_type_one_hot.tsv\"), sep=\"\\t\", index=False)\n",
    "print(\"cancer_type_one_hot_df.shape\", cancer_type_one_hot_df.shape)\n",
    "\n",
    "gex_df = gex_df[gex_df[\"sample_id\"].swifter.apply(lambda x: x in intersecting_sample_ids)][intersecting_columns]\n",
    "gex_df = gex_df.sort_values(by=\"sample_id\")\n",
    "gex_df.to_csv(os.path.join(data_dir, processed_folder_name, \"gex.tsv\"), sep=\"\\t\", index=False)\n",
    "print(\"gex_df.shape:\", gex_df.shape)\n",
    "\n",
    "print(\"Saved data.\")\n",
    "\n"
   ]
  },
  {
   "cell_type": "code",
   "execution_count": null,
   "metadata": {},
   "outputs": [],
   "source": []
  }
 ],
 "metadata": {
  "kernelspec": {
   "display_name": "Python 3.9.6 64-bit",
   "language": "python",
   "name": "python3"
  },
  "language_info": {
   "codemirror_mode": {
    "name": "ipython",
    "version": 3
   },
   "file_extension": ".py",
   "mimetype": "text/x-python",
   "name": "python",
   "nbconvert_exporter": "python",
   "pygments_lexer": "ipython3",
   "version": "3.9.6"
  },
  "orig_nbformat": 4,
  "vscode": {
   "interpreter": {
    "hash": "31f2aee4e71d21fbe5cf8b01ff0e069b9275f58929596ceb00d14d90e3e16cd6"
   }
  }
 },
 "nbformat": 4,
 "nbformat_minor": 2
}
