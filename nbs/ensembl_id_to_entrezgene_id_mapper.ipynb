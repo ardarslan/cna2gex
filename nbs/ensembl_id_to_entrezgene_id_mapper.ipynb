{
 "cells": [
  {
   "cell_type": "code",
   "execution_count": 1,
   "metadata": {},
   "outputs": [],
   "source": [
    "%load_ext autoreload\n",
    "%autoreload 2\n"
   ]
  },
  {
   "cell_type": "code",
   "execution_count": 2,
   "metadata": {},
   "outputs": [],
   "source": [
    "import os\n",
    "import numpy as np\n",
    "import pandas as pd\n",
    "from tqdm import tqdm\n",
    "from joblib import Parallel, delayed\n",
    "from selenium import webdriver\n",
    "from webdriver_manager.chrome import ChromeDriverManager\n",
    "\n",
    "from rpy2.robjects.packages import importr, data\n",
    "from rpy2.robjects import r\n",
    "from rpy2.robjects.vectors import StrVector\n",
    "from rpy2.robjects.pandas2ri import rpy2py\n"
   ]
  },
  {
   "cell_type": "code",
   "execution_count": 3,
   "metadata": {},
   "outputs": [],
   "source": [
    "data_dir = \"../data\"\n",
    "raw_folder_name = \"raw\"\n",
    "gex_file_name = \"tcga_gene_expected_count\"\n",
    "output_file_name = \"ensembl_id_to_entrezgene_id_mapping.tsv\"\n"
   ]
  },
  {
   "cell_type": "code",
   "execution_count": 4,
   "metadata": {},
   "outputs": [],
   "source": [
    "cna_df = pd.read_csv(os.path.join(data_dir, raw_folder_name, \"TCGA.PANCAN.sampleMap_Gistic2_CopyNumber_Gistic2_all_data_by_genes\"), sep=\"\\t\")\n"
   ]
  },
  {
   "cell_type": "code",
   "execution_count": 5,
   "metadata": {},
   "outputs": [],
   "source": [
    "cna_df_hgnc_symbols = list(set(cna_df[\"Sample\"].apply(lambda x: x.split(\"|\")[0]).tolist()))\n",
    "hgnc_to_entrezgene_id_mapping = dict(pd.read_csv(os.path.join(data_dir, raw_folder_name, \"hgnc_to_entrezgene_id_mapping.tsv\"), sep=\"\\t\").values)\n",
    "cna_df_entrezgene_ids = set()\n",
    "for cna_df_hgnc_symbol in cna_df_hgnc_symbols:\n",
    "    if cna_df_hgnc_symbol in hgnc_to_entrezgene_id_mapping.keys():\n",
    "        cna_df_entrezgene_ids.add(hgnc_to_entrezgene_id_mapping[cna_df_hgnc_symbol])\n",
    "del cna_df\n"
   ]
  },
  {
   "cell_type": "code",
   "execution_count": 6,
   "metadata": {},
   "outputs": [],
   "source": [
    "gex_df = pd.read_csv(os.path.join(data_dir, raw_folder_name, \"tcga_gene_expected_count\"), sep=\"\\t\")\n",
    "gex_df_ensembl_ids = tuple(set(gex_df[\"sample\"].apply(lambda x: x.split(\".\")[0]).tolist()))\n",
    "del gex_df\n"
   ]
  },
  {
   "cell_type": "code",
   "execution_count": 7,
   "metadata": {},
   "outputs": [],
   "source": [
    "r.library(\"biomaRt\")\n",
    "mart = r.useMart(biomart=\"ensembl\", dataset=\"hsapiens_gene_ensembl\")\n",
    "ensembl_entrezgene_r_df = r.getBM(attributes = StrVector((\"ensembl_gene_id\", \"entrezgene_id\", )),\n",
    "                                  filters = StrVector((\"ensembl_gene_id\", )),\n",
    "                                  values = StrVector(gex_df_ensembl_ids),\n",
    "                                  mart = mart)\n",
    "ensembl_entrezgene_pandas_df = rpy2py(ensembl_entrezgene_r_df)\n",
    "ensembl_entrezgene_pandas_df = ensembl_entrezgene_pandas_df[ensembl_entrezgene_pandas_df[\"entrezgene_id\"] > 0]\n",
    "ensembl_entrezgene_mapping = dict(ensembl_entrezgene_pandas_df.values)\n",
    "\n",
    "gex_df_entrezgene_ids = set(ensembl_entrezgene_pandas_df[\"entrezgene_id\"].tolist())\n"
   ]
  },
  {
   "cell_type": "code",
   "execution_count": 8,
   "metadata": {},
   "outputs": [],
   "source": [
    "missing_entrezgene_ids = cna_df_entrezgene_ids - gex_df_entrezgene_ids\n"
   ]
  },
  {
   "cell_type": "code",
   "execution_count": 20,
   "metadata": {},
   "outputs": [],
   "source": [
    "missing_entrezgene_ids = list(missing_entrezgene_ids)[list(missing_entrezgene_ids).index(106479253):]\n"
   ]
  },
  {
   "cell_type": "code",
   "execution_count": 21,
   "metadata": {},
   "outputs": [
    {
     "name": "stderr",
     "output_type": "stream",
     "text": [
      "/var/folders/4s/5bktxlm15j156ybv0th415qh0000gn/T/ipykernel_65115/1032465962.py:1: DeprecationWarning: executable_path has been deprecated, please pass in a Service object\n",
      "  driver = webdriver.Chrome(ChromeDriverManager().install())\n",
      "  2%|▏         | 5/307 [00:28<25:59,  5.16s/it]"
     ]
    },
    {
     "name": "stdout",
     "output_type": "stream",
     "text": [
      "Could not fetch information of the gene with entrezgene ID 106479257.\n"
     ]
    },
    {
     "name": "stderr",
     "output_type": "stream",
     "text": [
      " 43%|████▎     | 132/307 [10:34<10:17,  3.53s/it]"
     ]
    },
    {
     "name": "stdout",
     "output_type": "stream",
     "text": [
      "Could not fetch information of the gene with entrezgene ID 106479382.\n"
     ]
    },
    {
     "name": "stderr",
     "output_type": "stream",
     "text": [
      " 52%|█████▏    | 161/307 [12:19<07:04,  2.91s/it]"
     ]
    },
    {
     "name": "stdout",
     "output_type": "stream",
     "text": [
      "Could not fetch information of the gene with entrezgene ID 106479406.\n"
     ]
    },
    {
     "name": "stderr",
     "output_type": "stream",
     "text": [
      " 69%|██████▉   | 213/307 [15:20<04:58,  3.17s/it]"
     ]
    },
    {
     "name": "stdout",
     "output_type": "stream",
     "text": [
      "Could not fetch information of the gene with entrezgene ID 106479467.\n"
     ]
    },
    {
     "name": "stderr",
     "output_type": "stream",
     "text": [
      " 70%|███████   | 216/307 [15:29<04:47,  3.16s/it]"
     ]
    },
    {
     "name": "stdout",
     "output_type": "stream",
     "text": [
      "Could not fetch information of the gene with entrezgene ID 106479469.\n"
     ]
    },
    {
     "name": "stderr",
     "output_type": "stream",
     "text": [
      "100%|██████████| 307/307 [21:20<00:00,  4.17s/it]\n"
     ]
    }
   ],
   "source": [
    "driver = webdriver.Chrome(ChromeDriverManager().install())\n",
    "\n",
    "string_to_search = '\"https://www.ensembl.org/Homo_sapiens/geneview?gene='\n",
    "\n",
    "for missing_entrezgene_id in tqdm(missing_entrezgene_ids):\n",
    "    try:\n",
    "        driver.get(f\"https://www.genecards.org/cgi-bin/carddisp.pl?gene={missing_entrezgene_id}\")\n",
    "        content = driver.page_source\n",
    "        content = content[content.index(string_to_search)+len(string_to_search):]\n",
    "        content = content[:content.index('\"')]\n",
    "        ensembl_entrezgene_mapping[content] = missing_entrezgene_id\n",
    "    except Exception as e:\n",
    "        print(f\"Could not fetch information of the gene with entrezgene ID {missing_entrezgene_id}.\")\n",
    "\n",
    "ensembl_entrezgene_pandas_df = pd.DataFrame.from_dict(\n",
    "    {\n",
    "       \"ensembl_id\": ensembl_entrezgene_mapping.keys(),\n",
    "       \"entrezgene_id\": ensembl_entrezgene_mapping.values()\n",
    "    }\n",
    ")\n"
   ]
  },
  {
   "cell_type": "code",
   "execution_count": null,
   "metadata": {},
   "outputs": [],
   "source": []
  },
  {
   "cell_type": "code",
   "execution_count": 22,
   "metadata": {},
   "outputs": [],
   "source": [
    "ensembl_entrezgene_pandas_df.to_csv(os.path.join(data_dir, raw_folder_name, output_file_name), index=False, sep=\"\\t\")\n"
   ]
  },
  {
   "cell_type": "code",
   "execution_count": 23,
   "metadata": {},
   "outputs": [],
   "source": [
    "driver.close()\n"
   ]
  },
  {
   "cell_type": "code",
   "execution_count": null,
   "metadata": {},
   "outputs": [],
   "source": []
  },
  {
   "cell_type": "code",
   "execution_count": null,
   "metadata": {},
   "outputs": [],
   "source": []
  }
 ],
 "metadata": {
  "kernelspec": {
   "display_name": "Python 3.9.15 64-bit",
   "language": "python",
   "name": "python3"
  },
  "language_info": {
   "codemirror_mode": {
    "name": "ipython",
    "version": 3
   },
   "file_extension": ".py",
   "mimetype": "text/x-python",
   "name": "python",
   "nbconvert_exporter": "python",
   "pygments_lexer": "ipython3",
   "version": "3.9.15"
  },
  "orig_nbformat": 4,
  "vscode": {
   "interpreter": {
    "hash": "397704579725e15f5c7cb49fe5f0341eb7531c82d19f2c29d197e8b64ab5776b"
   }
  }
 },
 "nbformat": 4,
 "nbformat_minor": 2
}
