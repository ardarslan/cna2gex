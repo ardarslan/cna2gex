{
 "cells": [
  {
   "cell_type": "code",
   "execution_count": 1,
   "metadata": {},
   "outputs": [],
   "source": [
    "%load_ext autoreload\n",
    "%autoreload 2\n"
   ]
  },
  {
   "cell_type": "code",
   "execution_count": 2,
   "metadata": {},
   "outputs": [],
   "source": [
    "import os\n",
    "import numpy as np\n",
    "import pandas as pd\n",
    "from tqdm import tqdm\n",
    "from selenium import webdriver\n",
    "from webdriver_manager.chrome import ChromeDriverManager\n",
    "\n",
    "from rpy2.robjects.packages import importr\n",
    "from rpy2.robjects import r\n",
    "from rpy2.robjects.vectors import StrVector\n",
    "from rpy2.robjects.pandas2ri import rpy2py\n"
   ]
  },
  {
   "cell_type": "code",
   "execution_count": 3,
   "metadata": {},
   "outputs": [
    {
     "data": {
      "text/html": [
       "\n",
       "        <span>StrVector with 9 elements.</span>\n",
       "        <table>\n",
       "        <tbody>\n",
       "          <tr>\n",
       "          \n",
       "            <td>\n",
       "            'biomaRt'\n",
       "            </td>\n",
       "          \n",
       "            <td>\n",
       "            'tools'\n",
       "            </td>\n",
       "          \n",
       "            <td>\n",
       "            'stats'\n",
       "            </td>\n",
       "          \n",
       "            <td>\n",
       "            ...\n",
       "            </td>\n",
       "          \n",
       "            <td>\n",
       "            'datasets'\n",
       "            </td>\n",
       "          \n",
       "            <td>\n",
       "            'methods'\n",
       "            </td>\n",
       "          \n",
       "            <td>\n",
       "            'base'\n",
       "            </td>\n",
       "          \n",
       "          </tr>\n",
       "        </tbody>\n",
       "        </table>\n",
       "        "
      ],
      "text/plain": [
       "<rpy2.robjects.vectors.StrVector object at 0x11454ba40> [RTYPES.STRSXP]\n",
       "R classes: ('character',)\n",
       "['biomaRt', 'tools', 'stats', 'graphics', ..., 'utils', 'datasets', 'methods', 'base']"
      ]
     },
     "execution_count": 3,
     "metadata": {},
     "output_type": "execute_result"
    }
   ],
   "source": [
    "# import sys\n",
    "# !{sys.executable} -m pip install webdriver-manager\n",
    "\n",
    "# utils = importr('utils')\n",
    "# utils.install_packages('BiocManager', repos=\"https://cloud.r-project.org\")\n",
    "# r('BiocManager::install(\"biomaRt\")')\n",
    "r('library(biomaRt)')\n"
   ]
  },
  {
   "cell_type": "code",
   "execution_count": 5,
   "metadata": {},
   "outputs": [],
   "source": [
    "data_dir = \"../data\"\n",
    "raw_folder_name = \"raw\"\n",
    "cna_file_name = \"TCGA.PANCAN.sampleMap_Gistic2_CopyNumber_Gistic2_all_data_by_genes\"\n",
    "output_file_name = \"hgnc_to_entrezgene_id_mapping.tsv\"\n"
   ]
  },
  {
   "cell_type": "code",
   "execution_count": null,
   "metadata": {},
   "outputs": [],
   "source": [
    "cna_df = pd.read_csv(os.path.join(data_dir, raw_folder_name, cna_file_name), sep=\"\\t\")\n",
    "cna_df = cna_df.rename(columns={\"Gene Symbol\": \"hgnc_symbol\"})\n",
    "\n",
    "for index, row in cna_df.iterrows():\n",
    "    gene_symbol_splitted = row[\"hgnc_symbol\"].split(\"|\")\n",
    "    if len(gene_symbol_splitted) == 1:\n",
    "        cna_df.at[index, \"ensembl_id\"] = np.NaN\n",
    "        cna_df.at[index, \"hgnc_symbol\"] = gene_symbol_splitted[0]\n",
    "    elif len(gene_symbol_splitted) == 2:\n",
    "        cna_df.at[index, \"hgnc_symbol\"] = gene_symbol_splitted[0]\n",
    "        cna_df.at[index, \"ensembl_id\"] = gene_symbol_splitted[1]\n",
    "    else:\n",
    "        raise Exception(\"gene_symbol_splitted has more than 1 '|'s\")\n",
    "\n",
    "hgnc_symbols = tuple(set(cna_df[\"hgnc_symbol\"]))\n",
    "\n",
    "mart = r.useMart(biomart=\"ensembl\", dataset=\"hsapiens_gene_ensembl\")\n",
    "hgnc_entrezgene_r_df = r.getBM(attributes = StrVector((\"hgnc_symbol\", \"entrezgene_id\", )),\n",
    "                               filters = StrVector((\"hgnc_symbol\", )),\n",
    "                               values = StrVector(hgnc_symbols),\n",
    "                               mart = mart)\n",
    "\n",
    "hgnc_entrezgene_pandas_df = rpy2py(hgnc_entrezgene_r_df)\n",
    "\n",
    "hgnc_entrezgene_pandas_df = hgnc_entrezgene_pandas_df[(~pd.isnull(hgnc_entrezgene_pandas_df[\"hgnc_symbol\"])) & (hgnc_entrezgene_pandas_df[\"entrezgene_id\"] >= 0)]\n",
    "\n",
    "hgnc_entrezgene_mapping = dict(hgnc_entrezgene_pandas_df.values)\n",
    "\n",
    "hgnc_entrezgene_mapping_keys = hgnc_entrezgene_mapping.keys()\n"
   ]
  },
  {
   "cell_type": "code",
   "execution_count": null,
   "metadata": {},
   "outputs": [],
   "source": [
    "g"
   ]
  },
  {
   "cell_type": "code",
   "execution_count": null,
   "metadata": {},
   "outputs": [],
   "source": [
    "driver = webdriver.Chrome(ChromeDriverManager().install())\n",
    "\n",
    "string_to_search = '\"https://www.ncbi.nlm.nih.gov/gene/'\n",
    "\n",
    "for hgnc_symbol in tqdm(set(cna_df[\"hgnc_symbol\"]) - set(hgnc_entrezgene_mapping_keys)):\n",
    "    try:\n",
    "        driver.get(f\"https://www.genecards.org/cgi-bin/carddisp.pl?gene={hgnc_symbol}\")\n",
    "        content = driver.page_source\n",
    "        content = content[content.index(string_to_search)+len(string_to_search):]\n",
    "        content = content[:content.index('\"')]\n",
    "        hgnc_entrezgene_mapping[hgnc_symbol] = int(content)\n",
    "    except Exception as e:\n",
    "        print(f\"Could not fetch information of the gene with hgnc symbol {hgnc_symbol}.\")\n",
    "\n",
    "hgnc_entrezgene_pandas_df = pd.DataFrame.from_dict(\n",
    "    {\n",
    "       \"hgnc_symbol\": hgnc_entrezgene_mapping.keys(),\n",
    "       \"entrezgene_id\": hgnc_entrezgene_mapping.values()\n",
    "    }\n",
    ")\n"
   ]
  },
  {
   "cell_type": "code",
   "execution_count": null,
   "metadata": {},
   "outputs": [],
   "source": [
    "hgnc_entrezgene_pandas_df.to_csv(os.path.join(data_dir, raw_folder_name, output_file_name), index=False, sep=\"\\t\")\n"
   ]
  },
  {
   "cell_type": "code",
   "execution_count": null,
   "metadata": {},
   "outputs": [],
   "source": [
    "driver.close()"
   ]
  }
 ],
 "metadata": {
  "kernelspec": {
   "display_name": "Python 3.9.15 64-bit",
   "language": "python",
   "name": "python3"
  },
  "language_info": {
   "codemirror_mode": {
    "name": "ipython",
    "version": 3
   },
   "file_extension": ".py",
   "mimetype": "text/x-python",
   "name": "python",
   "nbconvert_exporter": "python",
   "pygments_lexer": "ipython3",
   "version": "3.9.15"
  },
  "orig_nbformat": 4,
  "vscode": {
   "interpreter": {
    "hash": "397704579725e15f5c7cb49fe5f0341eb7531c82d19f2c29d197e8b64ab5776b"
   }
  }
 },
 "nbformat": 4,
 "nbformat_minor": 2
}
