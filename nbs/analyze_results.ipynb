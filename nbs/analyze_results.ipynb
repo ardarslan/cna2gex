{
 "cells": [
  {
   "cell_type": "code",
   "execution_count": null,
   "metadata": {},
   "outputs": [],
   "source": []
  }
 ],
 "metadata": {
  "kernelspec": {
   "display_name": "Python 3.8.13 ('cna2gex')",
   "language": "python",
   "name": "python3"
  },
  "language_info": {
   "name": "python",
   "version": "3.8.13"
  },
  "orig_nbformat": 4,
  "vscode": {
   "interpreter": {
    "hash": "b929628814eb642caf72da7134111676a21d3a8302fb602d5d54287a19a2596e"
   }
  }
 },
 "nbformat": 4,
 "nbformat_minor": 2
}
