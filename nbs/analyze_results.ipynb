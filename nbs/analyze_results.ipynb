{
 "cells": [
  {
   "cell_type": "code",
   "execution_count": 5,
   "metadata": {},
   "outputs": [
    {
     "name": "stdout",
     "output_type": "stream",
     "text": [
      "[2022-11-22 09:38:27,040|INFO] Using cpu...\n",
      "[2022-11-22 09:38:27,040|INFO] Using cpu...\n",
      "[2022-11-22 09:39:42,347|INFO] Dropped the following subtype columns with 0 std: [].\n",
      "[2022-11-22 09:39:42,347|INFO] Dropped the following subtype columns with 0 std: [].\n",
      "[2022-11-22 09:39:48,006|INFO] X.shape: (1202, 15585), y.shape: (1202, 15581), mask.shape: (1202, 15581)\n",
      "[2022-11-22 09:39:48,006|INFO] X.shape: (1202, 15585), y.shape: (1202, 15581), mask.shape: (1202, 15581)\n",
      "[2022-11-22 09:40:21,740|INFO] Dropped the following subtype columns with 0 std: [].\n",
      "[2022-11-22 09:40:21,740|INFO] Dropped the following subtype columns with 0 std: [].\n",
      "[2022-11-22 09:40:24,573|INFO] X.shape: (896, 192), y.shape: (896, 15581), mask.shape: (896, 15581)\n",
      "[2022-11-22 09:40:24,573|INFO] X.shape: (896, 192), y.shape: (896, 15581), mask.shape: (896, 15581)\n",
      "[2022-11-22 09:41:12,305|INFO] Dropped the following subtype columns with 0 std: [].\n",
      "[2022-11-22 09:41:12,305|INFO] Dropped the following subtype columns with 0 std: [].\n",
      "[2022-11-22 09:41:18,333|INFO] X.shape: (1189, 15594), y.shape: (1189, 15581), mask.shape: (1189, 15581)\n",
      "[2022-11-22 09:41:18,333|INFO] X.shape: (1189, 15594), y.shape: (1189, 15581), mask.shape: (1189, 15581)\n"
     ]
    }
   ],
   "source": [
    "import sys\n",
    "sys.path.append(\"../src\")\n",
    "\n",
    "from dataset import CNAPurity2GEXDataset, RPPA2GEXDataset, AverageGEXSubtype2GEXDataset\n",
    "from utils import get_logger, set_experiment_name, set_device\n",
    "\n",
    "cfg = {\n",
    "    \"log_level\": \"info\",\n",
    "    \"checkpoints_dir\": \"../checkpoints\",\n",
    "    \"cancer_type\": \"all\",\n",
    "    \"split_ratios\": {\"train\": 0.6, \"val\": 0.2, \"test\": 0.2},\n",
    "    \"processed_data_dir\": \"../data/processed\",\n",
    "    \"seed\": 1903,\n",
    "    \"normalization_eps\": 1e-10\n",
    "}\n",
    "set_experiment_name(cfg=cfg)\n",
    "logger = get_logger(cfg=cfg)\n",
    "set_device(cfg=cfg, logger=logger)\n",
    "\n",
    "cna_purity_2_gex_dataset = CNAPurity2GEXDataset(cfg=cfg, logger=logger)\n",
    "rppa_2_gex_dataset = RPPA2GEXDataset(cfg=cfg, logger=logger)\n",
    "average_gex_subtype_2_gex_dataset = AverageGEXSubtype2GEXDataset(cfg=cfg, logger=logger)\n",
    "\n"
   ]
  },
  {
   "cell_type": "code",
   "execution_count": 2,
   "metadata": {},
   "outputs": [
    {
     "data": {
      "text/plain": [
       "((1202, 15585), (1202, 15581))"
      ]
     },
     "execution_count": 2,
     "metadata": {},
     "output_type": "execute_result"
    }
   ],
   "source": [
    "cna_purity_2_gex_dataset.X.shape, cna_purity_2_gex_dataset.y.shape"
   ]
  },
  {
   "cell_type": "code",
   "execution_count": 3,
   "metadata": {},
   "outputs": [
    {
     "data": {
      "text/plain": [
       "((896, 192), (896, 15581))"
      ]
     },
     "execution_count": 3,
     "metadata": {},
     "output_type": "execute_result"
    }
   ],
   "source": [
    "rppa_2_gex_dataset.X.shape, rppa_2_gex_dataset.y.shape"
   ]
  },
  {
   "cell_type": "code",
   "execution_count": 4,
   "metadata": {},
   "outputs": [
    {
     "data": {
      "text/plain": [
       "((1189, 15594), (1189, 15581))"
      ]
     },
     "execution_count": 4,
     "metadata": {},
     "output_type": "execute_result"
    }
   ],
   "source": [
    "average_gex_subtype_2_gex_dataset.X.shape, average_gex_subtype_2_gex_dataset.y.shape"
   ]
  },
  {
   "cell_type": "code",
   "execution_count": null,
   "metadata": {},
   "outputs": [],
   "source": []
  }
 ],
 "metadata": {
  "kernelspec": {
   "display_name": "Python 3.8.13 ('cna2gex')",
   "language": "python",
   "name": "python3"
  },
  "language_info": {
   "codemirror_mode": {
    "name": "ipython",
    "version": 3
   },
   "file_extension": ".py",
   "mimetype": "text/x-python",
   "name": "python",
   "nbconvert_exporter": "python",
   "pygments_lexer": "ipython3",
   "version": "3.8.13"
  },
  "orig_nbformat": 4,
  "vscode": {
   "interpreter": {
    "hash": "b929628814eb642caf72da7134111676a21d3a8302fb602d5d54287a19a2596e"
   }
  }
 },
 "nbformat": 4,
 "nbformat_minor": 2
}
